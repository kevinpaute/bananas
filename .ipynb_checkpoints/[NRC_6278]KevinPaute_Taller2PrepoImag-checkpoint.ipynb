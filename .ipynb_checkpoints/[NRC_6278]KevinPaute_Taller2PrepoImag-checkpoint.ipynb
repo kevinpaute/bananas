{
 "cells": [
  {
   "cell_type": "markdown",
   "id": "c323e77b",
   "metadata": {},
   "source": [
    "<center> <h1> Taller 2 Prepolmag IA </h1> </center>\n",
    "\n",
    "Nombre: Kevin Norvey Paute Sánchez\n",
    "\n",
    "Fecha: 08/08/2022"
   ]
  },
  {
   "cell_type": "markdown",
   "id": "e60763af",
   "metadata": {},
   "source": [
    "# Importar librerías"
   ]
  },
  {
   "cell_type": "code",
   "execution_count": 56,
   "id": "626156d8",
   "metadata": {},
   "outputs": [
    {
     "ename": "ModuleNotFoundError",
     "evalue": "No module named 'remove'",
     "output_type": "error",
     "traceback": [
      "\u001b[1;31m---------------------------------------------------------------------------\u001b[0m",
      "\u001b[1;31mModuleNotFoundError\u001b[0m                       Traceback (most recent call last)",
      "\u001b[1;32m~\\AppData\\Local\\Temp/ipykernel_15264/896856134.py\u001b[0m in \u001b[0;36m<module>\u001b[1;34m\u001b[0m\n\u001b[0;32m     20\u001b[0m \u001b[1;33m\u001b[0m\u001b[0m\n\u001b[0;32m     21\u001b[0m \u001b[1;32mfrom\u001b[0m  \u001b[0mPIL\u001b[0m  \u001b[1;32mimport\u001b[0m \u001b[0mImage\u001b[0m\u001b[1;33m\u001b[0m\u001b[1;33m\u001b[0m\u001b[0m\n\u001b[1;32m---> 22\u001b[1;33m \u001b[1;32mimport\u001b[0m \u001b[0mremove\u001b[0m\u001b[1;33m\u001b[0m\u001b[1;33m\u001b[0m\u001b[0m\n\u001b[0m\u001b[0;32m     23\u001b[0m \u001b[1;32mfrom\u001b[0m \u001b[0msklearn\u001b[0m\u001b[1;33m.\u001b[0m\u001b[0mpreprocessing\u001b[0m \u001b[1;32mimport\u001b[0m \u001b[0mMinMaxScaler\u001b[0m\u001b[1;33m\u001b[0m\u001b[1;33m\u001b[0m\u001b[0m\n\u001b[0;32m     24\u001b[0m \u001b[1;32mimport\u001b[0m \u001b[0mh5py\u001b[0m\u001b[1;33m\u001b[0m\u001b[1;33m\u001b[0m\u001b[0m\n",
      "\u001b[1;31mModuleNotFoundError\u001b[0m: No module named 'remove'"
     ]
    }
   ],
   "source": [
    "#Se realiza la importación de la libreria cv2\n",
    "import cv2\n",
    "#Se realiza la importación de la libreria numpy\n",
    "import numpy as np\n",
    "#Se realiza la importación de la libreria os\n",
    "import os\n",
    "os.environ['TF_CPP_MIN_LOG_LEVEL'] = '3' \n",
    "\n",
    "#Se realiza la importación de la libreria pandas\n",
    "import pandas as pd\n",
    "#Se realiza la importación de la libreria plt\n",
    "import matplotlib.pyplot as plt\n",
    "#Se realiza la importación de la libreria seaborn\n",
    "import seaborn as sn\n",
    "#Se realiza la importación de la libreria keras\n",
    "from keras.preprocessing.image import ImageDataGenerator\n",
    "import shutil\n",
    "import glob\n",
    "from tensorflow.keras.utils import img_to_array, array_to_img, img_to_array, load_img\n",
    "\n",
    "from  PIL  import Image\n",
    "import remove\n",
    "from sklearn.preprocessing import MinMaxScaler\n",
    "import h5py\n",
    "from time import sleep"
   ]
  },
  {
   "cell_type": "markdown",
   "id": "d92f1a9f",
   "metadata": {},
   "source": [
    "# Cargar dataset"
   ]
  },
  {
   "cell_type": "code",
   "execution_count": 46,
   "id": "94b13066",
   "metadata": {},
   "outputs": [
    {
     "name": "stdout",
     "output_type": "stream",
     "text": [
      "['amarillo_con_cafe_spots', 'amarillo_con_verde_tips', 'totalmente_verde']\n"
     ]
    }
   ],
   "source": [
    "#Se cargan las imagenes del dataset colocando la ruta de la carpeta general\n",
    "ruta_imagenes = \"Banana_dataset\"\n",
    "#Función que permite listar las carpetas que contiene \n",
    "clases = os.listdir(ruta_imagenes)\n",
    "#Función que permite clasificar los nombres de cada carpeta\n",
    "clases.sort()\n",
    "#Imprimir los nombres de las carpetas\n",
    "print(clases)"
   ]
  },
  {
   "cell_type": "markdown",
   "id": "f079cfa8",
   "metadata": {},
   "source": [
    "## Características"
   ]
  },
  {
   "cell_type": "code",
   "execution_count": 21,
   "id": "89bb4c0c",
   "metadata": {},
   "outputs": [
    {
     "name": "stdout",
     "output_type": "stream",
     "text": [
      "['015_BAN_017_1.JPG', '019_BAN_021_1.JPG', '020_BAN_022_1.JPG', '021_BAN_023_1.JPG', '025_BAN_027_1.JPG', '026_BAN_028_1.JPG', '076_BAN_079_1.JPG', '175_BAN_182_1.JPG', 'totally_green_0_1857.jpg', 'totally_green_0_4861.jpg', 'totally_green_0_4938.jpg', 'totally_green_0_4953.jpg', 'totally_green_0_5170.jpg', 'totally_green_0_5211.jpg', 'totally_green_0_5219.jpg', 'totally_green_0_5362.jpg', 'totally_green_0_5502.jpg', 'totally_green_0_5517.jpg']\n"
     ]
    }
   ],
   "source": [
    "tv = \"Banana_dataset/totalmente_verde\"\n",
    "print(os.listdir(tv))"
   ]
  },
  {
   "cell_type": "code",
   "execution_count": 22,
   "id": "4d77e411",
   "metadata": {},
   "outputs": [
    {
     "name": "stdout",
     "output_type": "stream",
     "text": [
      "['048_BAN_051_1.JPG', '049_BAN_052_1.JPG', '050_BAN_053_1.JPG', '051_BAN_054_1.JPG', '052_BAN_055_1.JPG', '053_BAN_056_1.JPG', '054_BAN_057_1.JPG', '055_BAN_058_1.JPG', '056_BAN_059_1.JPG', '057_BAN_060_1.JPG', '058_BAN_061_1.JPG', '060_BAN_063_1.JPG', 'yellow_with_brown_spots_0_4587.jpg', 'yellow_with_brown_spots_0_5498.jpg', 'yellow_with_brown_spots_0_8382.jpg', 'yellow_with_brown_spots_0_8427.jpg', 'yellow_with_brown_spots_0_8488.jpg', 'yellow_with_brown_spots_0_8538.jpg']\n"
     ]
    }
   ],
   "source": [
    "acs = \"Banana_dataset/amarillo_con_cafe_spots\"\n",
    "print(os.listdir(acs))"
   ]
  },
  {
   "cell_type": "code",
   "execution_count": 23,
   "id": "6369abb3",
   "metadata": {},
   "outputs": [
    {
     "name": "stdout",
     "output_type": "stream",
     "text": [
      "['009_BAN_011_1.JPG', '010_BAN_012_1.JPG', '122_BAN_128_1.JPG', '123_BAN_129_1.JPG', '132_BAN_139_1.JPG', '133_BAN_140_1.JPG', '208_BAN_216_1.JPG', '227_BAN_235_1.JPG', '266_BAN_009_2.JPG', '267_BAN_010_2.JPG', '365_BAN_109_2.JPG', '366_BAN_110_2.JPG', '383_BAN_129_2.JPG', 'BAN_052_2.JPG', 'yellow_with_green_tips_0_126.jpg', 'yellow_with_green_tips_0_128.jpg', 'yellow_with_green_tips_0_233.jpg', 'yellow_with_green_tips_0_262.jpg']\n"
     ]
    }
   ],
   "source": [
    "avt = \"Banana_dataset/amarillo_con_verde_tips\"\n",
    "print(os.listdir(avt))"
   ]
  },
  {
   "cell_type": "markdown",
   "id": "fd0f12f1",
   "metadata": {},
   "source": [
    "# Preprocesamiento"
   ]
  },
  {
   "cell_type": "code",
   "execution_count": 47,
   "id": "545e5a70",
   "metadata": {},
   "outputs": [
    {
     "name": "stdout",
     "output_type": "stream",
     "text": [
      "Copiando imagen - 048_BAN_051_1.JPG en Banana_dataset_Augmented/amarillo_con_cafe_spots\n",
      "Copiando imagen - 049_BAN_052_1.JPG en Banana_dataset_Augmented/amarillo_con_cafe_spots\n",
      "Copiando imagen - 050_BAN_053_1.JPG en Banana_dataset_Augmented/amarillo_con_cafe_spots\n",
      "Copiando imagen - 051_BAN_054_1.JPG en Banana_dataset_Augmented/amarillo_con_cafe_spots\n",
      "Copiando imagen - 052_BAN_055_1.JPG en Banana_dataset_Augmented/amarillo_con_cafe_spots\n",
      "Copiando imagen - 053_BAN_056_1.JPG en Banana_dataset_Augmented/amarillo_con_cafe_spots\n",
      "Copiando imagen - 054_BAN_057_1.JPG en Banana_dataset_Augmented/amarillo_con_cafe_spots\n",
      "Copiando imagen - 055_BAN_058_1.JPG en Banana_dataset_Augmented/amarillo_con_cafe_spots\n",
      "Copiando imagen - 056_BAN_059_1.JPG en Banana_dataset_Augmented/amarillo_con_cafe_spots\n",
      "Copiando imagen - 057_BAN_060_1.JPG en Banana_dataset_Augmented/amarillo_con_cafe_spots\n",
      "Copiando imagen - 058_BAN_061_1.JPG en Banana_dataset_Augmented/amarillo_con_cafe_spots\n",
      "Copiando imagen - 060_BAN_063_1.JPG en Banana_dataset_Augmented/amarillo_con_cafe_spots\n",
      "Copiando imagen - yellow_with_brown_spots_0_4587.jpg en Banana_dataset_Augmented/amarillo_con_cafe_spots\n",
      "Copiando imagen - yellow_with_brown_spots_0_5498.jpg en Banana_dataset_Augmented/amarillo_con_cafe_spots\n",
      "Copiando imagen - yellow_with_brown_spots_0_8382.jpg en Banana_dataset_Augmented/amarillo_con_cafe_spots\n",
      "Copiando imagen - yellow_with_brown_spots_0_8427.jpg en Banana_dataset_Augmented/amarillo_con_cafe_spots\n",
      "Copiando imagen - yellow_with_brown_spots_0_8488.jpg en Banana_dataset_Augmented/amarillo_con_cafe_spots\n",
      "Copiando imagen - yellow_with_brown_spots_0_8538.jpg en Banana_dataset_Augmented/amarillo_con_cafe_spots\n",
      "Copiando imagen - 009_BAN_011_1.JPG en Banana_dataset_Augmented/amarillo_con_verde_tips\n",
      "Copiando imagen - 010_BAN_012_1.JPG en Banana_dataset_Augmented/amarillo_con_verde_tips\n",
      "Copiando imagen - 122_BAN_128_1.JPG en Banana_dataset_Augmented/amarillo_con_verde_tips\n",
      "Copiando imagen - 123_BAN_129_1.JPG en Banana_dataset_Augmented/amarillo_con_verde_tips\n",
      "Copiando imagen - 132_BAN_139_1.JPG en Banana_dataset_Augmented/amarillo_con_verde_tips\n",
      "Copiando imagen - 133_BAN_140_1.JPG en Banana_dataset_Augmented/amarillo_con_verde_tips\n",
      "Copiando imagen - 208_BAN_216_1.JPG en Banana_dataset_Augmented/amarillo_con_verde_tips\n",
      "Copiando imagen - 227_BAN_235_1.JPG en Banana_dataset_Augmented/amarillo_con_verde_tips\n",
      "Copiando imagen - 266_BAN_009_2.JPG en Banana_dataset_Augmented/amarillo_con_verde_tips\n",
      "Copiando imagen - 267_BAN_010_2.JPG en Banana_dataset_Augmented/amarillo_con_verde_tips\n",
      "Copiando imagen - 365_BAN_109_2.JPG en Banana_dataset_Augmented/amarillo_con_verde_tips\n",
      "Copiando imagen - 366_BAN_110_2.JPG en Banana_dataset_Augmented/amarillo_con_verde_tips\n",
      "Copiando imagen - 383_BAN_129_2.JPG en Banana_dataset_Augmented/amarillo_con_verde_tips\n",
      "Copiando imagen - BAN_052_2.JPG en Banana_dataset_Augmented/amarillo_con_verde_tips\n",
      "Copiando imagen - yellow_with_green_tips_0_126.jpg en Banana_dataset_Augmented/amarillo_con_verde_tips\n",
      "Copiando imagen - yellow_with_green_tips_0_128.jpg en Banana_dataset_Augmented/amarillo_con_verde_tips\n",
      "Copiando imagen - yellow_with_green_tips_0_233.jpg en Banana_dataset_Augmented/amarillo_con_verde_tips\n",
      "Copiando imagen - yellow_with_green_tips_0_262.jpg en Banana_dataset_Augmented/amarillo_con_verde_tips\n",
      "Copiando imagen - 015_BAN_017_1.JPG en Banana_dataset_Augmented/totalmente_verde\n",
      "Copiando imagen - 019_BAN_021_1.JPG en Banana_dataset_Augmented/totalmente_verde\n",
      "Copiando imagen - 020_BAN_022_1.JPG en Banana_dataset_Augmented/totalmente_verde\n",
      "Copiando imagen - 021_BAN_023_1.JPG en Banana_dataset_Augmented/totalmente_verde\n",
      "Copiando imagen - 025_BAN_027_1.JPG en Banana_dataset_Augmented/totalmente_verde\n",
      "Copiando imagen - 026_BAN_028_1.JPG en Banana_dataset_Augmented/totalmente_verde\n",
      "Copiando imagen - 076_BAN_079_1.JPG en Banana_dataset_Augmented/totalmente_verde\n",
      "Copiando imagen - 175_BAN_182_1.JPG en Banana_dataset_Augmented/totalmente_verde\n",
      "Copiando imagen - totally_green_0_1857.jpg en Banana_dataset_Augmented/totalmente_verde\n",
      "Copiando imagen - totally_green_0_4861.jpg en Banana_dataset_Augmented/totalmente_verde\n",
      "Copiando imagen - totally_green_0_4938.jpg en Banana_dataset_Augmented/totalmente_verde\n",
      "Copiando imagen - totally_green_0_4953.jpg en Banana_dataset_Augmented/totalmente_verde\n",
      "Copiando imagen - totally_green_0_5170.jpg en Banana_dataset_Augmented/totalmente_verde\n",
      "Copiando imagen - totally_green_0_5211.jpg en Banana_dataset_Augmented/totalmente_verde\n",
      "Copiando imagen - totally_green_0_5219.jpg en Banana_dataset_Augmented/totalmente_verde\n",
      "Copiando imagen - totally_green_0_5362.jpg en Banana_dataset_Augmented/totalmente_verde\n",
      "Copiando imagen - totally_green_0_5502.jpg en Banana_dataset_Augmented/totalmente_verde\n",
      "Copiando imagen - totally_green_0_5517.jpg en Banana_dataset_Augmented/totalmente_verde\n"
     ]
    }
   ],
   "source": [
    "for n_clase in clases:\n",
    "    cur_path = ruta_imagenes + \"/\" + n_clase\n",
    "    elements = os.listdir(cur_path)\n",
    "    \n",
    "    for element in elements:\n",
    "        print(\"Copiando imagen - {} en Banana_dataset_Augmented/{}\".format(element, n_clase))\n",
    "        src = os.path.join(ruta_imagenes + \"/\" + n_clase, element) # origen\n",
    "        dst = os.path.join(\"Banana_dataset_Augmented/\" + n_clase, element) \n",
    "        shutil.copy(src, dst)"
   ]
  },
  {
   "cell_type": "markdown",
   "id": "8d32143d",
   "metadata": {},
   "source": [
    "## Data augmentation"
   ]
  },
  {
   "cell_type": "code",
   "execution_count": 48,
   "id": "4e81e16f",
   "metadata": {},
   "outputs": [],
   "source": [
    "datagen = ImageDataGenerator(\n",
    "        rotation_range=40,\n",
    "        width_shift_range=0.2,\n",
    "        height_shift_range=0.2,\n",
    "        rescale=1./255,\n",
    "        shear_range=0.2,\n",
    "        zoom_range=0.4,\n",
    "        horizontal_flip=True,\n",
    "        fill_mode='nearest')"
   ]
  },
  {
   "cell_type": "markdown",
   "id": "2d2f446a",
   "metadata": {},
   "source": [
    "### Clase totalmente verde"
   ]
  },
  {
   "cell_type": "code",
   "execution_count": 49,
   "id": "f3aa3002",
   "metadata": {},
   "outputs": [],
   "source": [
    "os.chdir(\"Banana_Dataset_Augmented/totalmente_verde\")\n",
    "for ruta in os.listdir():\n",
    "    img = load_img(f\"{ruta}\")\n",
    "    x = img_to_array(img) \n",
    "    x = x.reshape((1,) + x.shape)\n",
    "    i = 0\n",
    "    for batch in datagen.flow(x, batch_size=1,\n",
    "            save_to_dir=\".\", \n",
    "            save_prefix= 'totally_green', \n",
    "            save_format='jpg'):\n",
    "        i += 1\n",
    "        if i == 1:      \n",
    "            break "
   ]
  },
  {
   "cell_type": "markdown",
   "id": "b446adb3",
   "metadata": {},
   "source": [
    "### Clase amarillo con puntas verdes"
   ]
  },
  {
   "cell_type": "code",
   "execution_count": 50,
   "id": "0cf001b5",
   "metadata": {},
   "outputs": [],
   "source": [
    "os.chdir(r\"C:\\Users\\usuar\\Documents\\3Taller\\bananas\\Banana_Dataset_Augmented\\amarillo_con_verde_tips\")\n",
    "for ruta in os.listdir():\n",
    "    img = load_img(f\"{ruta}\")\n",
    "    x = img_to_array(img) \n",
    "    x = x.reshape((1,) + x.shape)\n",
    "    i = 0\n",
    "    for batch in datagen.flow(x, batch_size=1,\n",
    "            save_to_dir=\".\",  \n",
    "            save_prefix= 'yellow_with_green_tips', \n",
    "            save_format='jpg'):\n",
    "        i += 1\n",
    "        if i == 9:     \n",
    "            break  "
   ]
  },
  {
   "cell_type": "markdown",
   "id": "8c1c1559",
   "metadata": {},
   "source": [
    "### Clase amarilla con manchas marrones"
   ]
  },
  {
   "cell_type": "code",
   "execution_count": 51,
   "id": "877dec12",
   "metadata": {},
   "outputs": [],
   "source": [
    "os.chdir(r\"C:\\Users\\usuar\\Documents\\3Taller\\bananas\\Banana_Dataset_Augmented\\amarillo_con_cafe_spots\")\n",
    "for ruta in os.listdir():\n",
    "    img = load_img(f\"{ruta}\")\n",
    "    x = img_to_array(img) \n",
    "    x = x.reshape((1,) + x.shape)\n",
    "    i = 0\n",
    "    for batch in datagen.flow(x, batch_size=1,\n",
    "            save_to_dir=\".\",   \n",
    "            save_prefix= 'yellow_with_brown_spots', \n",
    "            save_format='jpg'):\n",
    "        i += 1\n",
    "        if i == 7:    \n",
    "            break"
   ]
  },
  {
   "cell_type": "markdown",
   "id": "5e25178f",
   "metadata": {},
   "source": [
    "## Filtro NLM para eliminación de ruido de imágenes"
   ]
  },
  {
   "cell_type": "code",
   "execution_count": 52,
   "id": "71614e34",
   "metadata": {},
   "outputs": [
    {
     "name": "stdout",
     "output_type": "stream",
     "text": [
      "['amarillo_con_cafe_spots', 'amarillo_con_verde_tips', 'totalmente_verde']\n"
     ]
    }
   ],
   "source": [
    "os.chdir(r\"C:\\Users\\usuar\\Documents\\3Taller\\bananas\")\n",
    "ruta_imagenes = \"Banana_Dataset_Augmented\"\n",
    "nombre_clases = os.listdir(ruta_imagenes)\n",
    "nombre_clases.sort()\n",
    "print(nombre_clases)"
   ]
  },
  {
   "cell_type": "code",
   "execution_count": 53,
   "id": "03a3fd7c",
   "metadata": {
    "scrolled": false
   },
   "outputs": [
    {
     "name": "stdout",
     "output_type": "stream",
     "text": [
      "Procesando Imagen - 1 in amarillo_con_cafe_spots\n",
      "Procesando Imagen - 2 in amarillo_con_cafe_spots\n",
      "Procesando Imagen - 3 in amarillo_con_cafe_spots\n",
      "Procesando Imagen - 4 in amarillo_con_cafe_spots\n",
      "Procesando Imagen - 5 in amarillo_con_cafe_spots\n",
      "Procesando Imagen - 6 in amarillo_con_cafe_spots\n",
      "Procesando Imagen - 7 in amarillo_con_cafe_spots\n",
      "Procesando Imagen - 8 in amarillo_con_cafe_spots\n",
      "Procesando Imagen - 9 in amarillo_con_cafe_spots\n",
      "Procesando Imagen - 10 in amarillo_con_cafe_spots\n",
      "Procesando Imagen - 11 in amarillo_con_cafe_spots\n",
      "Procesando Imagen - 12 in amarillo_con_cafe_spots\n",
      "Procesando Imagen - 13 in amarillo_con_cafe_spots\n",
      "Procesando Imagen - 14 in amarillo_con_cafe_spots\n",
      "Procesando Imagen - 15 in amarillo_con_cafe_spots\n",
      "Procesando Imagen - 16 in amarillo_con_cafe_spots\n",
      "Procesando Imagen - 17 in amarillo_con_cafe_spots\n",
      "Procesando Imagen - 18 in amarillo_con_cafe_spots\n",
      "Procesando Imagen - 19 in amarillo_con_cafe_spots\n",
      "Procesando Imagen - 20 in amarillo_con_cafe_spots\n",
      "Procesando Imagen - 21 in amarillo_con_cafe_spots\n",
      "Procesando Imagen - 22 in amarillo_con_cafe_spots\n",
      "Procesando Imagen - 23 in amarillo_con_cafe_spots\n",
      "Procesando Imagen - 24 in amarillo_con_cafe_spots\n",
      "Procesando Imagen - 25 in amarillo_con_cafe_spots\n",
      "Procesando Imagen - 26 in amarillo_con_cafe_spots\n",
      "Procesando Imagen - 27 in amarillo_con_cafe_spots\n",
      "Procesando Imagen - 28 in amarillo_con_cafe_spots\n",
      "Procesando Imagen - 29 in amarillo_con_cafe_spots\n",
      "Procesando Imagen - 30 in amarillo_con_cafe_spots\n",
      "Procesando Imagen - 31 in amarillo_con_cafe_spots\n",
      "Procesando Imagen - 32 in amarillo_con_cafe_spots\n",
      "Procesando Imagen - 33 in amarillo_con_cafe_spots\n",
      "Procesando Imagen - 34 in amarillo_con_cafe_spots\n",
      "Procesando Imagen - 35 in amarillo_con_cafe_spots\n",
      "Procesando Imagen - 36 in amarillo_con_cafe_spots\n",
      "Procesando Imagen - 37 in amarillo_con_cafe_spots\n",
      "Procesando Imagen - 38 in amarillo_con_cafe_spots\n",
      "Procesando Imagen - 39 in amarillo_con_cafe_spots\n",
      "Procesando Imagen - 40 in amarillo_con_cafe_spots\n",
      "Procesando Imagen - 41 in amarillo_con_cafe_spots\n",
      "Procesando Imagen - 42 in amarillo_con_cafe_spots\n",
      "Procesando Imagen - 43 in amarillo_con_cafe_spots\n",
      "Procesando Imagen - 44 in amarillo_con_cafe_spots\n",
      "Procesando Imagen - 45 in amarillo_con_cafe_spots\n",
      "Procesando Imagen - 46 in amarillo_con_cafe_spots\n",
      "Procesando Imagen - 47 in amarillo_con_cafe_spots\n",
      "Procesando Imagen - 48 in amarillo_con_cafe_spots\n",
      "Procesando Imagen - 49 in amarillo_con_cafe_spots\n",
      "Procesando Imagen - 50 in amarillo_con_cafe_spots\n",
      "Procesando Imagen - 51 in amarillo_con_cafe_spots\n",
      "Procesando Imagen - 52 in amarillo_con_cafe_spots\n",
      "Procesando Imagen - 53 in amarillo_con_cafe_spots\n",
      "Procesando Imagen - 54 in amarillo_con_cafe_spots\n",
      "Procesando Imagen - 55 in amarillo_con_cafe_spots\n",
      "Procesando Imagen - 56 in amarillo_con_cafe_spots\n",
      "Procesando Imagen - 57 in amarillo_con_cafe_spots\n",
      "Procesando Imagen - 58 in amarillo_con_cafe_spots\n",
      "Procesando Imagen - 59 in amarillo_con_cafe_spots\n",
      "Procesando Imagen - 60 in amarillo_con_cafe_spots\n",
      "Procesando Imagen - 61 in amarillo_con_cafe_spots\n",
      "Procesando Imagen - 62 in amarillo_con_cafe_spots\n",
      "Procesando Imagen - 63 in amarillo_con_cafe_spots\n",
      "Procesando Imagen - 64 in amarillo_con_cafe_spots\n",
      "Procesando Imagen - 65 in amarillo_con_cafe_spots\n",
      "Procesando Imagen - 66 in amarillo_con_cafe_spots\n",
      "Procesando Imagen - 67 in amarillo_con_cafe_spots\n",
      "Procesando Imagen - 68 in amarillo_con_cafe_spots\n",
      "Procesando Imagen - 69 in amarillo_con_cafe_spots\n",
      "Procesando Imagen - 70 in amarillo_con_cafe_spots\n",
      "Procesando Imagen - 71 in amarillo_con_cafe_spots\n",
      "Procesando Imagen - 72 in amarillo_con_cafe_spots\n",
      "Procesando Imagen - 73 in amarillo_con_cafe_spots\n",
      "Procesando Imagen - 74 in amarillo_con_cafe_spots\n",
      "Procesando Imagen - 75 in amarillo_con_cafe_spots\n",
      "Procesando Imagen - 76 in amarillo_con_cafe_spots\n",
      "Procesando Imagen - 77 in amarillo_con_cafe_spots\n",
      "Procesando Imagen - 78 in amarillo_con_cafe_spots\n",
      "Procesando Imagen - 79 in amarillo_con_cafe_spots\n",
      "Procesando Imagen - 80 in amarillo_con_cafe_spots\n",
      "Procesando Imagen - 81 in amarillo_con_cafe_spots\n",
      "Procesando Imagen - 82 in amarillo_con_cafe_spots\n",
      "Procesando Imagen - 83 in amarillo_con_cafe_spots\n",
      "Procesando Imagen - 84 in amarillo_con_cafe_spots\n",
      "Procesando Imagen - 85 in amarillo_con_cafe_spots\n",
      "Procesando Imagen - 86 in amarillo_con_cafe_spots\n",
      "Procesando Imagen - 87 in amarillo_con_cafe_spots\n",
      "Procesando Imagen - 88 in amarillo_con_cafe_spots\n",
      "Procesando Imagen - 89 in amarillo_con_cafe_spots\n",
      "Procesando Imagen - 90 in amarillo_con_cafe_spots\n",
      "Procesando Imagen - 91 in amarillo_con_cafe_spots\n",
      "Procesando Imagen - 92 in amarillo_con_cafe_spots\n",
      "Procesando Imagen - 93 in amarillo_con_cafe_spots\n",
      "Procesando Imagen - 94 in amarillo_con_cafe_spots\n",
      "Procesando Imagen - 95 in amarillo_con_cafe_spots\n",
      "Procesando Imagen - 96 in amarillo_con_cafe_spots\n",
      "Procesando Imagen - 97 in amarillo_con_cafe_spots\n",
      "Procesando Imagen - 98 in amarillo_con_cafe_spots\n",
      "Procesando Imagen - 99 in amarillo_con_cafe_spots\n",
      "Procesando Imagen - 100 in amarillo_con_cafe_spots\n",
      "Procesando Imagen - 101 in amarillo_con_cafe_spots\n",
      "Procesando Imagen - 102 in amarillo_con_cafe_spots\n",
      "Procesando Imagen - 103 in amarillo_con_cafe_spots\n",
      "Procesando Imagen - 104 in amarillo_con_cafe_spots\n",
      "Procesando Imagen - 105 in amarillo_con_cafe_spots\n",
      "Procesando Imagen - 106 in amarillo_con_cafe_spots\n",
      "Procesando Imagen - 107 in amarillo_con_cafe_spots\n",
      "Procesando Imagen - 108 in amarillo_con_cafe_spots\n",
      "Procesando Imagen - 109 in amarillo_con_cafe_spots\n",
      "Procesando Imagen - 110 in amarillo_con_cafe_spots\n",
      "Procesando Imagen - 111 in amarillo_con_cafe_spots\n",
      "Procesando Imagen - 112 in amarillo_con_cafe_spots\n",
      "Procesando Imagen - 113 in amarillo_con_cafe_spots\n",
      "Procesando Imagen - 114 in amarillo_con_cafe_spots\n",
      "Procesando Imagen - 115 in amarillo_con_cafe_spots\n",
      "Procesando Imagen - 116 in amarillo_con_cafe_spots\n",
      "Procesando Imagen - 117 in amarillo_con_cafe_spots\n",
      "Procesando Imagen - 118 in amarillo_con_cafe_spots\n",
      "Procesando Imagen - 119 in amarillo_con_cafe_spots\n",
      "Procesando Imagen - 120 in amarillo_con_cafe_spots\n",
      "Procesando Imagen - 121 in amarillo_con_cafe_spots\n",
      "Procesando Imagen - 122 in amarillo_con_cafe_spots\n",
      "Procesando Imagen - 123 in amarillo_con_cafe_spots\n",
      "Procesando Imagen - 124 in amarillo_con_cafe_spots\n",
      "Procesando Imagen - 125 in amarillo_con_cafe_spots\n",
      "Procesando Imagen - 126 in amarillo_con_cafe_spots\n",
      "Procesando Imagen - 127 in amarillo_con_cafe_spots\n",
      "Procesando Imagen - 128 in amarillo_con_cafe_spots\n",
      "Procesando Imagen - 129 in amarillo_con_cafe_spots\n",
      "Procesando Imagen - 130 in amarillo_con_cafe_spots\n",
      "Procesando Imagen - 131 in amarillo_con_cafe_spots\n",
      "Procesando Imagen - 132 in amarillo_con_cafe_spots\n",
      "Procesando Imagen - 133 in amarillo_con_cafe_spots\n",
      "Procesando Imagen - 134 in amarillo_con_cafe_spots\n",
      "Procesando Imagen - 135 in amarillo_con_cafe_spots\n",
      "Procesando Imagen - 136 in amarillo_con_cafe_spots\n",
      "Procesando Imagen - 137 in amarillo_con_cafe_spots\n",
      "Procesando Imagen - 138 in amarillo_con_cafe_spots\n",
      "Procesando Imagen - 139 in amarillo_con_cafe_spots\n",
      "Procesando Imagen - 140 in amarillo_con_cafe_spots\n",
      "Procesando Imagen - 141 in amarillo_con_cafe_spots\n",
      "Procesando Imagen - 142 in amarillo_con_cafe_spots\n",
      "Procesando Imagen - 143 in amarillo_con_cafe_spots\n",
      "Procesando Imagen - 1 in amarillo_con_verde_tips\n",
      "Procesando Imagen - 2 in amarillo_con_verde_tips\n",
      "Procesando Imagen - 3 in amarillo_con_verde_tips\n",
      "Procesando Imagen - 4 in amarillo_con_verde_tips\n",
      "Procesando Imagen - 5 in amarillo_con_verde_tips\n",
      "Procesando Imagen - 6 in amarillo_con_verde_tips\n",
      "Procesando Imagen - 7 in amarillo_con_verde_tips\n",
      "Procesando Imagen - 8 in amarillo_con_verde_tips\n",
      "Procesando Imagen - 9 in amarillo_con_verde_tips\n",
      "Procesando Imagen - 10 in amarillo_con_verde_tips\n",
      "Procesando Imagen - 11 in amarillo_con_verde_tips\n",
      "Procesando Imagen - 12 in amarillo_con_verde_tips\n",
      "Procesando Imagen - 13 in amarillo_con_verde_tips\n",
      "Procesando Imagen - 14 in amarillo_con_verde_tips\n",
      "Procesando Imagen - 15 in amarillo_con_verde_tips\n",
      "Procesando Imagen - 16 in amarillo_con_verde_tips\n",
      "Procesando Imagen - 17 in amarillo_con_verde_tips\n",
      "Procesando Imagen - 18 in amarillo_con_verde_tips\n",
      "Procesando Imagen - 19 in amarillo_con_verde_tips\n",
      "Procesando Imagen - 20 in amarillo_con_verde_tips\n",
      "Procesando Imagen - 21 in amarillo_con_verde_tips\n"
     ]
    },
    {
     "name": "stdout",
     "output_type": "stream",
     "text": [
      "Procesando Imagen - 22 in amarillo_con_verde_tips\n",
      "Procesando Imagen - 23 in amarillo_con_verde_tips\n",
      "Procesando Imagen - 24 in amarillo_con_verde_tips\n",
      "Procesando Imagen - 25 in amarillo_con_verde_tips\n",
      "Procesando Imagen - 26 in amarillo_con_verde_tips\n",
      "Procesando Imagen - 27 in amarillo_con_verde_tips\n",
      "Procesando Imagen - 28 in amarillo_con_verde_tips\n",
      "Procesando Imagen - 29 in amarillo_con_verde_tips\n",
      "Procesando Imagen - 30 in amarillo_con_verde_tips\n",
      "Procesando Imagen - 31 in amarillo_con_verde_tips\n",
      "Procesando Imagen - 32 in amarillo_con_verde_tips\n",
      "Procesando Imagen - 33 in amarillo_con_verde_tips\n",
      "Procesando Imagen - 34 in amarillo_con_verde_tips\n",
      "Procesando Imagen - 35 in amarillo_con_verde_tips\n",
      "Procesando Imagen - 36 in amarillo_con_verde_tips\n",
      "Procesando Imagen - 37 in amarillo_con_verde_tips\n",
      "Procesando Imagen - 38 in amarillo_con_verde_tips\n",
      "Procesando Imagen - 39 in amarillo_con_verde_tips\n",
      "Procesando Imagen - 40 in amarillo_con_verde_tips\n",
      "Procesando Imagen - 41 in amarillo_con_verde_tips\n",
      "Procesando Imagen - 42 in amarillo_con_verde_tips\n",
      "Procesando Imagen - 43 in amarillo_con_verde_tips\n",
      "Procesando Imagen - 44 in amarillo_con_verde_tips\n",
      "Procesando Imagen - 45 in amarillo_con_verde_tips\n",
      "Procesando Imagen - 46 in amarillo_con_verde_tips\n",
      "Procesando Imagen - 47 in amarillo_con_verde_tips\n",
      "Procesando Imagen - 48 in amarillo_con_verde_tips\n",
      "Procesando Imagen - 49 in amarillo_con_verde_tips\n",
      "Procesando Imagen - 50 in amarillo_con_verde_tips\n",
      "Procesando Imagen - 51 in amarillo_con_verde_tips\n",
      "Procesando Imagen - 52 in amarillo_con_verde_tips\n",
      "Procesando Imagen - 53 in amarillo_con_verde_tips\n",
      "Procesando Imagen - 54 in amarillo_con_verde_tips\n",
      "Procesando Imagen - 55 in amarillo_con_verde_tips\n",
      "Procesando Imagen - 56 in amarillo_con_verde_tips\n",
      "Procesando Imagen - 57 in amarillo_con_verde_tips\n",
      "Procesando Imagen - 58 in amarillo_con_verde_tips\n",
      "Procesando Imagen - 59 in amarillo_con_verde_tips\n",
      "Procesando Imagen - 60 in amarillo_con_verde_tips\n",
      "Procesando Imagen - 61 in amarillo_con_verde_tips\n",
      "Procesando Imagen - 62 in amarillo_con_verde_tips\n",
      "Procesando Imagen - 63 in amarillo_con_verde_tips\n",
      "Procesando Imagen - 64 in amarillo_con_verde_tips\n",
      "Procesando Imagen - 65 in amarillo_con_verde_tips\n",
      "Procesando Imagen - 66 in amarillo_con_verde_tips\n",
      "Procesando Imagen - 67 in amarillo_con_verde_tips\n",
      "Procesando Imagen - 68 in amarillo_con_verde_tips\n",
      "Procesando Imagen - 69 in amarillo_con_verde_tips\n",
      "Procesando Imagen - 70 in amarillo_con_verde_tips\n",
      "Procesando Imagen - 71 in amarillo_con_verde_tips\n",
      "Procesando Imagen - 72 in amarillo_con_verde_tips\n",
      "Procesando Imagen - 73 in amarillo_con_verde_tips\n",
      "Procesando Imagen - 74 in amarillo_con_verde_tips\n",
      "Procesando Imagen - 75 in amarillo_con_verde_tips\n",
      "Procesando Imagen - 76 in amarillo_con_verde_tips\n",
      "Procesando Imagen - 77 in amarillo_con_verde_tips\n",
      "Procesando Imagen - 78 in amarillo_con_verde_tips\n",
      "Procesando Imagen - 79 in amarillo_con_verde_tips\n",
      "Procesando Imagen - 80 in amarillo_con_verde_tips\n",
      "Procesando Imagen - 81 in amarillo_con_verde_tips\n",
      "Procesando Imagen - 82 in amarillo_con_verde_tips\n",
      "Procesando Imagen - 83 in amarillo_con_verde_tips\n",
      "Procesando Imagen - 84 in amarillo_con_verde_tips\n",
      "Procesando Imagen - 85 in amarillo_con_verde_tips\n",
      "Procesando Imagen - 86 in amarillo_con_verde_tips\n",
      "Procesando Imagen - 87 in amarillo_con_verde_tips\n",
      "Procesando Imagen - 88 in amarillo_con_verde_tips\n",
      "Procesando Imagen - 89 in amarillo_con_verde_tips\n",
      "Procesando Imagen - 90 in amarillo_con_verde_tips\n",
      "Procesando Imagen - 91 in amarillo_con_verde_tips\n",
      "Procesando Imagen - 92 in amarillo_con_verde_tips\n",
      "Procesando Imagen - 93 in amarillo_con_verde_tips\n",
      "Procesando Imagen - 94 in amarillo_con_verde_tips\n",
      "Procesando Imagen - 95 in amarillo_con_verde_tips\n",
      "Procesando Imagen - 96 in amarillo_con_verde_tips\n",
      "Procesando Imagen - 97 in amarillo_con_verde_tips\n",
      "Procesando Imagen - 98 in amarillo_con_verde_tips\n",
      "Procesando Imagen - 99 in amarillo_con_verde_tips\n",
      "Procesando Imagen - 100 in amarillo_con_verde_tips\n",
      "Procesando Imagen - 101 in amarillo_con_verde_tips\n",
      "Procesando Imagen - 102 in amarillo_con_verde_tips\n",
      "Procesando Imagen - 103 in amarillo_con_verde_tips\n",
      "Procesando Imagen - 104 in amarillo_con_verde_tips\n",
      "Procesando Imagen - 105 in amarillo_con_verde_tips\n",
      "Procesando Imagen - 106 in amarillo_con_verde_tips\n",
      "Procesando Imagen - 107 in amarillo_con_verde_tips\n",
      "Procesando Imagen - 108 in amarillo_con_verde_tips\n",
      "Procesando Imagen - 109 in amarillo_con_verde_tips\n",
      "Procesando Imagen - 110 in amarillo_con_verde_tips\n",
      "Procesando Imagen - 111 in amarillo_con_verde_tips\n",
      "Procesando Imagen - 112 in amarillo_con_verde_tips\n",
      "Procesando Imagen - 113 in amarillo_con_verde_tips\n",
      "Procesando Imagen - 114 in amarillo_con_verde_tips\n",
      "Procesando Imagen - 115 in amarillo_con_verde_tips\n",
      "Procesando Imagen - 116 in amarillo_con_verde_tips\n",
      "Procesando Imagen - 117 in amarillo_con_verde_tips\n",
      "Procesando Imagen - 118 in amarillo_con_verde_tips\n",
      "Procesando Imagen - 119 in amarillo_con_verde_tips\n",
      "Procesando Imagen - 120 in amarillo_con_verde_tips\n",
      "Procesando Imagen - 121 in amarillo_con_verde_tips\n",
      "Procesando Imagen - 122 in amarillo_con_verde_tips\n",
      "Procesando Imagen - 123 in amarillo_con_verde_tips\n",
      "Procesando Imagen - 124 in amarillo_con_verde_tips\n",
      "Procesando Imagen - 125 in amarillo_con_verde_tips\n",
      "Procesando Imagen - 126 in amarillo_con_verde_tips\n",
      "Procesando Imagen - 127 in amarillo_con_verde_tips\n",
      "Procesando Imagen - 128 in amarillo_con_verde_tips\n",
      "Procesando Imagen - 129 in amarillo_con_verde_tips\n",
      "Procesando Imagen - 130 in amarillo_con_verde_tips\n",
      "Procesando Imagen - 131 in amarillo_con_verde_tips\n",
      "Procesando Imagen - 132 in amarillo_con_verde_tips\n",
      "Procesando Imagen - 133 in amarillo_con_verde_tips\n",
      "Procesando Imagen - 134 in amarillo_con_verde_tips\n",
      "Procesando Imagen - 135 in amarillo_con_verde_tips\n",
      "Procesando Imagen - 136 in amarillo_con_verde_tips\n",
      "Procesando Imagen - 137 in amarillo_con_verde_tips\n",
      "Procesando Imagen - 138 in amarillo_con_verde_tips\n",
      "Procesando Imagen - 139 in amarillo_con_verde_tips\n",
      "Procesando Imagen - 140 in amarillo_con_verde_tips\n",
      "Procesando Imagen - 141 in amarillo_con_verde_tips\n",
      "Procesando Imagen - 142 in amarillo_con_verde_tips\n",
      "Procesando Imagen - 143 in amarillo_con_verde_tips\n",
      "Procesando Imagen - 144 in amarillo_con_verde_tips\n",
      "Procesando Imagen - 145 in amarillo_con_verde_tips\n",
      "Procesando Imagen - 146 in amarillo_con_verde_tips\n",
      "Procesando Imagen - 147 in amarillo_con_verde_tips\n",
      "Procesando Imagen - 148 in amarillo_con_verde_tips\n",
      "Procesando Imagen - 149 in amarillo_con_verde_tips\n",
      "Procesando Imagen - 150 in amarillo_con_verde_tips\n",
      "Procesando Imagen - 151 in amarillo_con_verde_tips\n",
      "Procesando Imagen - 152 in amarillo_con_verde_tips\n",
      "Procesando Imagen - 153 in amarillo_con_verde_tips\n",
      "Procesando Imagen - 154 in amarillo_con_verde_tips\n",
      "Procesando Imagen - 155 in amarillo_con_verde_tips\n",
      "Procesando Imagen - 156 in amarillo_con_verde_tips\n",
      "Procesando Imagen - 157 in amarillo_con_verde_tips\n",
      "Procesando Imagen - 158 in amarillo_con_verde_tips\n",
      "Procesando Imagen - 159 in amarillo_con_verde_tips\n",
      "Procesando Imagen - 160 in amarillo_con_verde_tips\n",
      "Procesando Imagen - 161 in amarillo_con_verde_tips\n",
      "Procesando Imagen - 162 in amarillo_con_verde_tips\n",
      "Procesando Imagen - 163 in amarillo_con_verde_tips\n",
      "Procesando Imagen - 164 in amarillo_con_verde_tips\n",
      "Procesando Imagen - 165 in amarillo_con_verde_tips\n",
      "Procesando Imagen - 166 in amarillo_con_verde_tips\n",
      "Procesando Imagen - 167 in amarillo_con_verde_tips\n",
      "Procesando Imagen - 168 in amarillo_con_verde_tips\n",
      "Procesando Imagen - 169 in amarillo_con_verde_tips\n",
      "Procesando Imagen - 170 in amarillo_con_verde_tips\n",
      "Procesando Imagen - 171 in amarillo_con_verde_tips\n",
      "Procesando Imagen - 172 in amarillo_con_verde_tips\n",
      "Procesando Imagen - 173 in amarillo_con_verde_tips\n",
      "Procesando Imagen - 174 in amarillo_con_verde_tips\n",
      "Procesando Imagen - 175 in amarillo_con_verde_tips\n",
      "Procesando Imagen - 176 in amarillo_con_verde_tips\n",
      "Procesando Imagen - 177 in amarillo_con_verde_tips\n",
      "Procesando Imagen - 178 in amarillo_con_verde_tips\n",
      "Procesando Imagen - 179 in amarillo_con_verde_tips\n",
      "Procesando Imagen - 1 in totalmente_verde\n",
      "Procesando Imagen - 2 in totalmente_verde\n",
      "Procesando Imagen - 3 in totalmente_verde\n",
      "Procesando Imagen - 4 in totalmente_verde\n",
      "Procesando Imagen - 5 in totalmente_verde\n",
      "Procesando Imagen - 6 in totalmente_verde\n"
     ]
    },
    {
     "name": "stdout",
     "output_type": "stream",
     "text": [
      "Procesando Imagen - 7 in totalmente_verde\n",
      "Procesando Imagen - 8 in totalmente_verde\n",
      "Procesando Imagen - 9 in totalmente_verde\n",
      "Procesando Imagen - 10 in totalmente_verde\n",
      "Procesando Imagen - 11 in totalmente_verde\n",
      "Procesando Imagen - 12 in totalmente_verde\n",
      "Procesando Imagen - 13 in totalmente_verde\n",
      "Procesando Imagen - 14 in totalmente_verde\n",
      "Procesando Imagen - 15 in totalmente_verde\n",
      "Procesando Imagen - 16 in totalmente_verde\n",
      "Procesando Imagen - 17 in totalmente_verde\n",
      "Procesando Imagen - 18 in totalmente_verde\n",
      "Procesando Imagen - 19 in totalmente_verde\n",
      "Procesando Imagen - 20 in totalmente_verde\n",
      "Procesando Imagen - 21 in totalmente_verde\n",
      "Procesando Imagen - 22 in totalmente_verde\n",
      "Procesando Imagen - 23 in totalmente_verde\n",
      "Procesando Imagen - 24 in totalmente_verde\n",
      "Procesando Imagen - 25 in totalmente_verde\n",
      "Procesando Imagen - 26 in totalmente_verde\n",
      "Procesando Imagen - 27 in totalmente_verde\n",
      "Procesando Imagen - 28 in totalmente_verde\n",
      "Procesando Imagen - 29 in totalmente_verde\n",
      "Procesando Imagen - 30 in totalmente_verde\n",
      "Procesando Imagen - 31 in totalmente_verde\n",
      "Procesando Imagen - 32 in totalmente_verde\n",
      "Procesando Imagen - 33 in totalmente_verde\n",
      "Procesando Imagen - 34 in totalmente_verde\n",
      "Procesando Imagen - 35 in totalmente_verde\n",
      "Procesando Imagen - 36 in totalmente_verde\n"
     ]
    }
   ],
   "source": [
    "for n_clase in nombre_clases:\n",
    "    cur_path = ruta_imagenes + \"/\" + n_clase\n",
    "    cur_label = n_clase\n",
    "    i = 1\n",
    "\n",
    "    for archivo in glob.glob(cur_path + \"/*\"):\n",
    "        print(\"Procesando Imagen - {} in {}\".format(i, cur_label))\n",
    "        # read the images path\n",
    "        image = cv2.imread(archivo)\n",
    "        # denoising images\n",
    "        dst = cv2.fastNlMeansDenoisingColored(image,None,10,10,7,21)\n",
    "        b,g,r = cv2.split(dst)\n",
    "        rgb_dst = cv2.merge([r,g,b])\n",
    "        \n",
    "        save_path = 'Banana_Dataset_Denoised/'+ cur_label\n",
    "        cv2.imwrite(os.path.join(save_path , cur_label + '_' + str(i) + '.jpg'),\n",
    "                    cv2.cvtColor(rgb_dst,cv2.COLOR_RGB2BGR))\n",
    "        \n",
    "\n",
    "        # show loop update\n",
    "        i += 1"
   ]
  },
  {
   "cell_type": "markdown",
   "id": "ba76f39a",
   "metadata": {},
   "source": [
    "## Background Removal"
   ]
  },
  {
   "cell_type": "code",
   "execution_count": 54,
   "id": "8e5f465d",
   "metadata": {},
   "outputs": [
    {
     "name": "stdout",
     "output_type": "stream",
     "text": [
      "['amarillo_con_cafe_spots', 'amarillo_con_verde_tips', 'totalmente_verde']\n"
     ]
    }
   ],
   "source": [
    "ruta_imagenes = \"Banana_Dataset_Denoised\"\n",
    "nombre_clases = os.listdir(ruta_imagenes)\n",
    "nombre_clases.sort()\n",
    "print(nombre_clases)"
   ]
  },
  {
   "cell_type": "code",
   "execution_count": 55,
   "id": "858878fa",
   "metadata": {},
   "outputs": [
    {
     "name": "stdout",
     "output_type": "stream",
     "text": [
      "Procesando Imagen - 1 in amarillo_con_cafe_spots\n"
     ]
    },
    {
     "ename": "NameError",
     "evalue": "name 'remove' is not defined",
     "output_type": "error",
     "traceback": [
      "\u001b[1;31m---------------------------------------------------------------------------\u001b[0m",
      "\u001b[1;31mNameError\u001b[0m                                 Traceback (most recent call last)",
      "\u001b[1;32m~\\AppData\\Local\\Temp/ipykernel_15264/2072475227.py\u001b[0m in \u001b[0;36m<module>\u001b[1;34m\u001b[0m\n\u001b[0;32m      9\u001b[0m         \u001b[0mimage\u001b[0m \u001b[1;33m=\u001b[0m \u001b[0mcv2\u001b[0m\u001b[1;33m.\u001b[0m\u001b[0mimread\u001b[0m\u001b[1;33m(\u001b[0m\u001b[0mfile\u001b[0m\u001b[1;33m)\u001b[0m\u001b[1;33m\u001b[0m\u001b[1;33m\u001b[0m\u001b[0m\n\u001b[0;32m     10\u001b[0m         \u001b[1;31m# remove bg\u001b[0m\u001b[1;33m\u001b[0m\u001b[1;33m\u001b[0m\u001b[0m\n\u001b[1;32m---> 11\u001b[1;33m         \u001b[0moutput\u001b[0m \u001b[1;33m=\u001b[0m \u001b[0mremove\u001b[0m\u001b[1;33m(\u001b[0m\u001b[0mimage\u001b[0m\u001b[1;33m)\u001b[0m\u001b[1;33m\u001b[0m\u001b[1;33m\u001b[0m\u001b[0m\n\u001b[0m\u001b[0;32m     12\u001b[0m         \u001b[1;31m# save images\u001b[0m\u001b[1;33m\u001b[0m\u001b[1;33m\u001b[0m\u001b[0m\n\u001b[0;32m     13\u001b[0m         \u001b[0msave_path\u001b[0m \u001b[1;33m=\u001b[0m \u001b[1;34m'Banana_Ripeness_Dataset_RemovedBG/'\u001b[0m\u001b[1;33m+\u001b[0m \u001b[0mcur_label\u001b[0m\u001b[1;33m\u001b[0m\u001b[1;33m\u001b[0m\u001b[0m\n",
      "\u001b[1;31mNameError\u001b[0m: name 'remove' is not defined"
     ]
    }
   ],
   "source": [
    "for n_clase in nombre_clases:\n",
    "    cur_path = ruta_imagenes + \"/\" + n_clase\n",
    "    cur_label = n_clase\n",
    "    i = 1\n",
    "\n",
    "    for file in glob.glob(cur_path + \"/*\"):\n",
    "        print(\"Procesando Imagen - {} in {}\".format(i, cur_label))\n",
    "        # read the images path\n",
    "        image = cv2.imread(file)\n",
    "        # remove bg \n",
    "        output = remove(image)\n",
    "        # save images\n",
    "        save_path = 'Banana_Ripeness_Dataset_RemovedBG/'+ cur_label\n",
    "        cv2.imwrite(os.path.join(save_path , cur_label + '_' + str(i) + '.png'), output)\n",
    "        \n",
    "\n",
    "        # show loop update\n",
    "        i += 1"
   ]
  },
  {
   "cell_type": "code",
   "execution_count": null,
   "id": "9ea4c8e9",
   "metadata": {},
   "outputs": [],
   "source": []
  }
 ],
 "metadata": {
  "kernelspec": {
   "display_name": "Python 3 (ipykernel)",
   "language": "python",
   "name": "python3"
  },
  "language_info": {
   "codemirror_mode": {
    "name": "ipython",
    "version": 3
   },
   "file_extension": ".py",
   "mimetype": "text/x-python",
   "name": "python",
   "nbconvert_exporter": "python",
   "pygments_lexer": "ipython3",
   "version": "3.9.7"
  }
 },
 "nbformat": 4,
 "nbformat_minor": 5
}
