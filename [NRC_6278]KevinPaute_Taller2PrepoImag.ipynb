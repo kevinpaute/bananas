{
 "cells": [
  {
   "cell_type": "markdown",
   "id": "10c7b08e",
   "metadata": {},
   "source": [
    "<center> <h1> Taller 2 IA </h1> </center>\n",
    "\n",
    "Nombre: Kevin Norvey Paute Sánchez\n",
    "\n",
    "Fecha: 08/08/2022"
   ]
  },
  {
   "cell_type": "markdown",
   "id": "472ed77f",
   "metadata": {},
   "source": [
    "# Importar librerías"
   ]
  },
  {
   "cell_type": "code",
   "execution_count": 19,
   "id": "fb48e00e",
   "metadata": {},
   "outputs": [],
   "source": [
    "#Se realiza la importación de la libreria cv2\n",
    "import cv2\n",
    "#Se realiza la importación de la libreria numpy\n",
    "import numpy as np\n",
    "#Se realiza la importación de la libreria os\n",
    "import os\n",
    "os.environ['TF_CPP_MIN_LOG_LEVEL'] = '3' \n",
    "\n",
    "#Se realiza la importación de la libreria pandas\n",
    "import pandas as pd\n",
    "#Se realiza la importación de la libreria plt\n",
    "import matplotlib.pyplot as plt\n",
    "#Se realiza la importación de la libreria seaborn\n",
    "import seaborn as sn\n",
    "#Se realiza la importación de la libreria keras\n",
    "from keras.preprocessing.image import ImageDataGenerator\n",
    "import shutil\n",
    "import glob\n",
    "from tensorflow.keras.utils import img_to_array, array_to_img, img_to_array, load_img\n",
    "\n",
    "from  PIL  import Image\n",
    "#from rembg import remove\n",
    "from sklearn.preprocessing import MinMaxScaler\n",
    "import h5py\n",
    "from time import sleep"
   ]
  },
  {
   "cell_type": "markdown",
   "id": "a1ade8dc",
   "metadata": {},
   "source": [
    "# Cargar dataset"
   ]
  },
  {
   "cell_type": "code",
   "execution_count": 20,
   "id": "c4b7e12d",
   "metadata": {},
   "outputs": [
    {
     "name": "stdout",
     "output_type": "stream",
     "text": [
      "['amarillo_con_cafe_spots', 'amarillo_con_verde_tips', 'totalmente_verde']\n"
     ]
    }
   ],
   "source": [
    "#Se cargan las imagenes del dataset colocando la ruta de la carpeta general\n",
    "ruta_imagenes = \"Banana_dataset\"\n",
    "#Función que permite listar las carpetas que contiene \n",
    "clases = os.listdir(ruta_imagenes)\n",
    "#Función que permite clasificar los nombres de cada carpeta\n",
    "clases.sort()\n",
    "#Imprimir los nombres de las carpetas\n",
    "print(clases)"
   ]
  },
  {
   "cell_type": "markdown",
   "id": "a1f93275",
   "metadata": {},
   "source": [
    "## Características"
   ]
  },
  {
   "cell_type": "code",
   "execution_count": 21,
   "id": "7bdc52dc",
   "metadata": {},
   "outputs": [
    {
     "name": "stdout",
     "output_type": "stream",
     "text": [
      "['015_BAN_017_1.JPG', '019_BAN_021_1.JPG', '020_BAN_022_1.JPG', '021_BAN_023_1.JPG', '025_BAN_027_1.JPG', '026_BAN_028_1.JPG', '076_BAN_079_1.JPG', '175_BAN_182_1.JPG', 'totally_green_0_1857.jpg', 'totally_green_0_4861.jpg', 'totally_green_0_4938.jpg', 'totally_green_0_4953.jpg', 'totally_green_0_5170.jpg', 'totally_green_0_5211.jpg', 'totally_green_0_5219.jpg', 'totally_green_0_5362.jpg', 'totally_green_0_5502.jpg', 'totally_green_0_5517.jpg']\n"
     ]
    }
   ],
   "source": [
    "tv = \"Banana_dataset/totalmente_verde\"\n",
    "print(os.listdir(tv))"
   ]
  },
  {
   "cell_type": "code",
   "execution_count": 22,
   "id": "174c66da",
   "metadata": {},
   "outputs": [
    {
     "name": "stdout",
     "output_type": "stream",
     "text": [
      "['048_BAN_051_1.JPG', '049_BAN_052_1.JPG', '050_BAN_053_1.JPG', '051_BAN_054_1.JPG', '052_BAN_055_1.JPG', '053_BAN_056_1.JPG', '054_BAN_057_1.JPG', '055_BAN_058_1.JPG', '056_BAN_059_1.JPG', '057_BAN_060_1.JPG', '058_BAN_061_1.JPG', '060_BAN_063_1.JPG', 'yellow_with_brown_spots_0_4587.jpg', 'yellow_with_brown_spots_0_5498.jpg', 'yellow_with_brown_spots_0_8382.jpg', 'yellow_with_brown_spots_0_8427.jpg', 'yellow_with_brown_spots_0_8488.jpg', 'yellow_with_brown_spots_0_8538.jpg']\n"
     ]
    }
   ],
   "source": [
    "acs = \"Banana_dataset/amarillo_con_cafe_spots\"\n",
    "print(os.listdir(acs))"
   ]
  },
  {
   "cell_type": "code",
   "execution_count": 23,
   "id": "3992d42f",
   "metadata": {},
   "outputs": [
    {
     "name": "stdout",
     "output_type": "stream",
     "text": [
      "['009_BAN_011_1.JPG', '010_BAN_012_1.JPG', '122_BAN_128_1.JPG', '123_BAN_129_1.JPG', '132_BAN_139_1.JPG', '133_BAN_140_1.JPG', '208_BAN_216_1.JPG', '227_BAN_235_1.JPG', '266_BAN_009_2.JPG', '267_BAN_010_2.JPG', '365_BAN_109_2.JPG', '366_BAN_110_2.JPG', '383_BAN_129_2.JPG', 'BAN_052_2.JPG', 'yellow_with_green_tips_0_126.jpg', 'yellow_with_green_tips_0_128.jpg', 'yellow_with_green_tips_0_233.jpg', 'yellow_with_green_tips_0_262.jpg']\n"
     ]
    }
   ],
   "source": [
    "avt = \"Banana_dataset/amarillo_con_verde_tips\"\n",
    "print(os.listdir(avt))"
   ]
  },
  {
   "cell_type": "markdown",
   "id": "9478a8ef",
   "metadata": {},
   "source": [
    "# Preprocesamiento"
   ]
  },
  {
   "cell_type": "code",
   "execution_count": 24,
   "id": "a930091d",
   "metadata": {},
   "outputs": [
    {
     "name": "stdout",
     "output_type": "stream",
     "text": [
      "Copiando imagen - 048_BAN_051_1.JPG en Banana_dataset_Augmented/amarillo_con_cafe_spots\n",
      "Copiando imagen - 049_BAN_052_1.JPG en Banana_dataset_Augmented/amarillo_con_cafe_spots\n",
      "Copiando imagen - 050_BAN_053_1.JPG en Banana_dataset_Augmented/amarillo_con_cafe_spots\n",
      "Copiando imagen - 051_BAN_054_1.JPG en Banana_dataset_Augmented/amarillo_con_cafe_spots\n",
      "Copiando imagen - 052_BAN_055_1.JPG en Banana_dataset_Augmented/amarillo_con_cafe_spots\n",
      "Copiando imagen - 053_BAN_056_1.JPG en Banana_dataset_Augmented/amarillo_con_cafe_spots\n",
      "Copiando imagen - 054_BAN_057_1.JPG en Banana_dataset_Augmented/amarillo_con_cafe_spots\n",
      "Copiando imagen - 055_BAN_058_1.JPG en Banana_dataset_Augmented/amarillo_con_cafe_spots\n",
      "Copiando imagen - 056_BAN_059_1.JPG en Banana_dataset_Augmented/amarillo_con_cafe_spots\n",
      "Copiando imagen - 057_BAN_060_1.JPG en Banana_dataset_Augmented/amarillo_con_cafe_spots\n",
      "Copiando imagen - 058_BAN_061_1.JPG en Banana_dataset_Augmented/amarillo_con_cafe_spots\n",
      "Copiando imagen - 060_BAN_063_1.JPG en Banana_dataset_Augmented/amarillo_con_cafe_spots\n",
      "Copiando imagen - yellow_with_brown_spots_0_4587.jpg en Banana_dataset_Augmented/amarillo_con_cafe_spots\n",
      "Copiando imagen - yellow_with_brown_spots_0_5498.jpg en Banana_dataset_Augmented/amarillo_con_cafe_spots\n",
      "Copiando imagen - yellow_with_brown_spots_0_8382.jpg en Banana_dataset_Augmented/amarillo_con_cafe_spots\n",
      "Copiando imagen - yellow_with_brown_spots_0_8427.jpg en Banana_dataset_Augmented/amarillo_con_cafe_spots\n",
      "Copiando imagen - yellow_with_brown_spots_0_8488.jpg en Banana_dataset_Augmented/amarillo_con_cafe_spots\n",
      "Copiando imagen - yellow_with_brown_spots_0_8538.jpg en Banana_dataset_Augmented/amarillo_con_cafe_spots\n",
      "Copiando imagen - 009_BAN_011_1.JPG en Banana_dataset_Augmented/amarillo_con_verde_tips\n",
      "Copiando imagen - 010_BAN_012_1.JPG en Banana_dataset_Augmented/amarillo_con_verde_tips\n",
      "Copiando imagen - 122_BAN_128_1.JPG en Banana_dataset_Augmented/amarillo_con_verde_tips\n",
      "Copiando imagen - 123_BAN_129_1.JPG en Banana_dataset_Augmented/amarillo_con_verde_tips\n",
      "Copiando imagen - 132_BAN_139_1.JPG en Banana_dataset_Augmented/amarillo_con_verde_tips\n",
      "Copiando imagen - 133_BAN_140_1.JPG en Banana_dataset_Augmented/amarillo_con_verde_tips\n",
      "Copiando imagen - 208_BAN_216_1.JPG en Banana_dataset_Augmented/amarillo_con_verde_tips\n",
      "Copiando imagen - 227_BAN_235_1.JPG en Banana_dataset_Augmented/amarillo_con_verde_tips\n",
      "Copiando imagen - 266_BAN_009_2.JPG en Banana_dataset_Augmented/amarillo_con_verde_tips\n",
      "Copiando imagen - 267_BAN_010_2.JPG en Banana_dataset_Augmented/amarillo_con_verde_tips\n",
      "Copiando imagen - 365_BAN_109_2.JPG en Banana_dataset_Augmented/amarillo_con_verde_tips\n",
      "Copiando imagen - 366_BAN_110_2.JPG en Banana_dataset_Augmented/amarillo_con_verde_tips\n",
      "Copiando imagen - 383_BAN_129_2.JPG en Banana_dataset_Augmented/amarillo_con_verde_tips\n",
      "Copiando imagen - BAN_052_2.JPG en Banana_dataset_Augmented/amarillo_con_verde_tips\n",
      "Copiando imagen - yellow_with_green_tips_0_126.jpg en Banana_dataset_Augmented/amarillo_con_verde_tips\n",
      "Copiando imagen - yellow_with_green_tips_0_128.jpg en Banana_dataset_Augmented/amarillo_con_verde_tips\n",
      "Copiando imagen - yellow_with_green_tips_0_233.jpg en Banana_dataset_Augmented/amarillo_con_verde_tips\n",
      "Copiando imagen - yellow_with_green_tips_0_262.jpg en Banana_dataset_Augmented/amarillo_con_verde_tips\n",
      "Copiando imagen - 015_BAN_017_1.JPG en Banana_dataset_Augmented/totalmente_verde\n",
      "Copiando imagen - 019_BAN_021_1.JPG en Banana_dataset_Augmented/totalmente_verde\n",
      "Copiando imagen - 020_BAN_022_1.JPG en Banana_dataset_Augmented/totalmente_verde\n",
      "Copiando imagen - 021_BAN_023_1.JPG en Banana_dataset_Augmented/totalmente_verde\n",
      "Copiando imagen - 025_BAN_027_1.JPG en Banana_dataset_Augmented/totalmente_verde\n",
      "Copiando imagen - 026_BAN_028_1.JPG en Banana_dataset_Augmented/totalmente_verde\n",
      "Copiando imagen - 076_BAN_079_1.JPG en Banana_dataset_Augmented/totalmente_verde\n",
      "Copiando imagen - 175_BAN_182_1.JPG en Banana_dataset_Augmented/totalmente_verde\n",
      "Copiando imagen - totally_green_0_1857.jpg en Banana_dataset_Augmented/totalmente_verde\n",
      "Copiando imagen - totally_green_0_4861.jpg en Banana_dataset_Augmented/totalmente_verde\n",
      "Copiando imagen - totally_green_0_4938.jpg en Banana_dataset_Augmented/totalmente_verde\n",
      "Copiando imagen - totally_green_0_4953.jpg en Banana_dataset_Augmented/totalmente_verde\n",
      "Copiando imagen - totally_green_0_5170.jpg en Banana_dataset_Augmented/totalmente_verde\n",
      "Copiando imagen - totally_green_0_5211.jpg en Banana_dataset_Augmented/totalmente_verde\n",
      "Copiando imagen - totally_green_0_5219.jpg en Banana_dataset_Augmented/totalmente_verde\n",
      "Copiando imagen - totally_green_0_5362.jpg en Banana_dataset_Augmented/totalmente_verde\n",
      "Copiando imagen - totally_green_0_5502.jpg en Banana_dataset_Augmented/totalmente_verde\n",
      "Copiando imagen - totally_green_0_5517.jpg en Banana_dataset_Augmented/totalmente_verde\n"
     ]
    }
   ],
   "source": [
    "for n_clase in clases:\n",
    "    cur_path = ruta_imagenes + \"/\" + n_clase\n",
    "    elements = os.listdir(cur_path)\n",
    "    \n",
    "    for element in elements:\n",
    "        print(\"Copiando imagen - {} en Banana_dataset_Augmented/{}\".format(element, n_clase))\n",
    "        src = os.path.join(ruta_imagenes + \"/\" + n_clase, element) # origen\n",
    "        dst = os.path.join(\"Banana_dataset_Augmented/\" + n_clase, element) \n",
    "        shutil.copy(src, dst)"
   ]
  },
  {
   "cell_type": "markdown",
   "id": "f7c8eb3c",
   "metadata": {},
   "source": [
    "## Data augmentation"
   ]
  },
  {
   "cell_type": "code",
   "execution_count": 25,
   "id": "76d552ba",
   "metadata": {},
   "outputs": [],
   "source": [
    "datagen = ImageDataGenerator(\n",
    "        rotation_range=40,\n",
    "        width_shift_range=0.2,\n",
    "        height_shift_range=0.2,\n",
    "        rescale=1./255,\n",
    "        shear_range=0.2,\n",
    "        zoom_range=0.4,\n",
    "        horizontal_flip=True,\n",
    "        fill_mode='nearest')"
   ]
  },
  {
   "cell_type": "markdown",
   "id": "6332ea44",
   "metadata": {},
   "source": [
    "### Clase totalmente verde"
   ]
  },
  {
   "cell_type": "code",
   "execution_count": 26,
   "id": "3e8194a0",
   "metadata": {},
   "outputs": [],
   "source": [
    "os.chdir(\"Banana_Dataset_Augmented/totalmente_verde\")\n",
    "for ruta in os.listdir():\n",
    "    img = load_img(f\"{ruta}\")\n",
    "    x = img_to_array(img) \n",
    "    x = x.reshape((1,) + x.shape)\n",
    "    i = 0\n",
    "    for batch in datagen.flow(x, batch_size=1,\n",
    "            save_to_dir=\".\", \n",
    "            save_prefix= 'totally_green', \n",
    "            save_format='jpg'):\n",
    "        i += 1\n",
    "        if i == 1:      \n",
    "            break "
   ]
  },
  {
   "cell_type": "markdown",
   "id": "7b28c2c7",
   "metadata": {},
   "source": [
    "### Clase amarillo con puntas verdes"
   ]
  },
  {
   "cell_type": "code",
   "execution_count": 32,
   "id": "53bc3e26",
   "metadata": {},
   "outputs": [],
   "source": [
    "os.chdir(r\"C:\\Users\\usuar\\Documents\\3Taller\\bananas\\Banana_dataset_Augmented\\amarillo_con_verde_tips\")\n",
    "for ruta in os.listdir():\n",
    "    img = load_img(f\"{ruta}\")\n",
    "    x = img_to_array(img) \n",
    "    x = x.reshape((1,) + x.shape)\n",
    "    i = 0\n",
    "    for batch in datagen.flow(x, batch_size=1,\n",
    "            save_to_dir=\".\",  \n",
    "            save_prefix= 'yellow_with_green_tips', \n",
    "            save_format='jpg'):\n",
    "        i += 1\n",
    "        if i == 9:     \n",
    "            break  "
   ]
  },
  {
   "cell_type": "markdown",
   "id": "9c066027",
   "metadata": {},
   "source": [
    "### Clase amarilla con manchas marrones"
   ]
  },
  {
   "cell_type": "code",
   "execution_count": 33,
   "id": "aac968df",
   "metadata": {},
   "outputs": [],
   "source": [
    "os.chdir(r\"C:\\Users\\usuar\\Documents\\3Taller\\bananas\\Banana_dataset_Augmented\\amarillo_con_cafe_spots\")\n",
    "for ruta in os.listdir():\n",
    "    img = load_img(f\"{ruta}\")\n",
    "    x = img_to_array(img) \n",
    "    x = x.reshape((1,) + x.shape)\n",
    "    i = 0\n",
    "    for batch in datagen.flow(x, batch_size=1,\n",
    "            save_to_dir=\".\",   \n",
    "            save_prefix= 'yellow_with_brown_spots', \n",
    "            save_format='jpg'):\n",
    "        i += 1\n",
    "        if i == 7:    \n",
    "            break"
   ]
  },
  {
   "cell_type": "markdown",
   "id": "e0f96630",
   "metadata": {},
   "source": [
    "## Filtro NLM para eliminación de ruido de imágenes"
   ]
  },
  {
   "cell_type": "code",
   "execution_count": 43,
   "id": "30624b83",
   "metadata": {},
   "outputs": [
    {
     "name": "stdout",
     "output_type": "stream",
     "text": [
      "['amarillo_con_cafe_spots', 'amarillo_con_verde_tips', 'totalmente_verde']\n"
     ]
    }
   ],
   "source": [
    "os.chdir(r\"C:\\Users\\usuar\\Documents\\3Taller\\bananas\")\n",
    "ruta_imagenes = \"Banana_Dataset_Augmented\"\n",
    "nombre_clases = os.listdir(ruta_imagenes)\n",
    "nombre_clases.sort()\n",
    "print(nombre_clases)"
   ]
  },
  {
   "cell_type": "code",
   "execution_count": 45,
   "id": "27e8e369",
   "metadata": {
    "scrolled": false
   },
   "outputs": [
    {
     "name": "stdout",
     "output_type": "stream",
     "text": [
      "Processing Image - 1 in amarillo_con_cafe_spots\n",
      "Processing Image - 2 in amarillo_con_cafe_spots\n",
      "Processing Image - 3 in amarillo_con_cafe_spots\n",
      "Processing Image - 4 in amarillo_con_cafe_spots\n",
      "Processing Image - 5 in amarillo_con_cafe_spots\n",
      "Processing Image - 6 in amarillo_con_cafe_spots\n",
      "Processing Image - 7 in amarillo_con_cafe_spots\n",
      "Processing Image - 8 in amarillo_con_cafe_spots\n"
     ]
    },
    {
     "ename": "KeyboardInterrupt",
     "evalue": "",
     "output_type": "error",
     "traceback": [
      "\u001b[1;31m---------------------------------------------------------------------------\u001b[0m",
      "\u001b[1;31mKeyboardInterrupt\u001b[0m                         Traceback (most recent call last)",
      "\u001b[1;32m~\\AppData\\Local\\Temp/ipykernel_15264/2621757076.py\u001b[0m in \u001b[0;36m<module>\u001b[1;34m\u001b[0m\n\u001b[0;32m      9\u001b[0m         \u001b[0mimage\u001b[0m \u001b[1;33m=\u001b[0m \u001b[0mcv2\u001b[0m\u001b[1;33m.\u001b[0m\u001b[0mimread\u001b[0m\u001b[1;33m(\u001b[0m\u001b[0marchivo\u001b[0m\u001b[1;33m)\u001b[0m\u001b[1;33m\u001b[0m\u001b[1;33m\u001b[0m\u001b[0m\n\u001b[0;32m     10\u001b[0m         \u001b[1;31m# denoising images\u001b[0m\u001b[1;33m\u001b[0m\u001b[1;33m\u001b[0m\u001b[0m\n\u001b[1;32m---> 11\u001b[1;33m         \u001b[0mdst\u001b[0m \u001b[1;33m=\u001b[0m \u001b[0mcv2\u001b[0m\u001b[1;33m.\u001b[0m\u001b[0mfastNlMeansDenoisingColored\u001b[0m\u001b[1;33m(\u001b[0m\u001b[0mimage\u001b[0m\u001b[1;33m,\u001b[0m\u001b[1;32mNone\u001b[0m\u001b[1;33m,\u001b[0m\u001b[1;36m10\u001b[0m\u001b[1;33m,\u001b[0m\u001b[1;36m10\u001b[0m\u001b[1;33m,\u001b[0m\u001b[1;36m7\u001b[0m\u001b[1;33m,\u001b[0m\u001b[1;36m21\u001b[0m\u001b[1;33m)\u001b[0m\u001b[1;33m\u001b[0m\u001b[1;33m\u001b[0m\u001b[0m\n\u001b[0m\u001b[0;32m     12\u001b[0m         \u001b[0mb\u001b[0m\u001b[1;33m,\u001b[0m\u001b[0mg\u001b[0m\u001b[1;33m,\u001b[0m\u001b[0mr\u001b[0m \u001b[1;33m=\u001b[0m \u001b[0mcv2\u001b[0m\u001b[1;33m.\u001b[0m\u001b[0msplit\u001b[0m\u001b[1;33m(\u001b[0m\u001b[0mdst\u001b[0m\u001b[1;33m)\u001b[0m\u001b[1;33m\u001b[0m\u001b[1;33m\u001b[0m\u001b[0m\n\u001b[0;32m     13\u001b[0m         \u001b[0mrgb_dst\u001b[0m \u001b[1;33m=\u001b[0m \u001b[0mcv2\u001b[0m\u001b[1;33m.\u001b[0m\u001b[0mmerge\u001b[0m\u001b[1;33m(\u001b[0m\u001b[1;33m[\u001b[0m\u001b[0mr\u001b[0m\u001b[1;33m,\u001b[0m\u001b[0mg\u001b[0m\u001b[1;33m,\u001b[0m\u001b[0mb\u001b[0m\u001b[1;33m]\u001b[0m\u001b[1;33m)\u001b[0m\u001b[1;33m\u001b[0m\u001b[1;33m\u001b[0m\u001b[0m\n",
      "\u001b[1;31mKeyboardInterrupt\u001b[0m: "
     ]
    }
   ],
   "source": [
    "for n_clase in nombre_clases:\n",
    "    cur_path = ruta_imagenes + \"/\" + n_clase\n",
    "    cur_label = n_clase\n",
    "    i = 1\n",
    "\n",
    "    for archivo in glob.glob(cur_path + \"/*\"):\n",
    "        print(\"Procesando Imagen - {} in {}\".format(i, cur_label))\n",
    "        # read the images path\n",
    "        image = cv2.imread(archivo)\n",
    "        # denoising images\n",
    "        dst = cv2.fastNlMeansDenoisingColored(image,None,10,10,7,21)\n",
    "        b,g,r = cv2.split(dst)\n",
    "        rgb_dst = cv2.merge([r,g,b])\n",
    "        \n",
    "        save_path = 'Banana_Dataset_Denoised/'+ cur_label\n",
    "        cv2.imwrite(os.path.join(save_path , cur_label + '_' + str(i) + '.jpg'),\n",
    "                    cv2.cvtColor(rgb_dst,cv2.COLOR_RGB2BGR))\n",
    "        \n",
    "\n",
    "        # show loop update\n",
    "        i += 1"
   ]
  },
  {
   "cell_type": "code",
   "execution_count": null,
   "id": "dd926c05",
   "metadata": {},
   "outputs": [],
   "source": []
  }
 ],
 "metadata": {
  "kernelspec": {
   "display_name": "Python 3 (ipykernel)",
   "language": "python",
   "name": "python3"
  },
  "language_info": {
   "codemirror_mode": {
    "name": "ipython",
    "version": 3
   },
   "file_extension": ".py",
   "mimetype": "text/x-python",
   "name": "python",
   "nbconvert_exporter": "python",
   "pygments_lexer": "ipython3",
   "version": "3.9.7"
  }
 },
 "nbformat": 4,
 "nbformat_minor": 5
}
